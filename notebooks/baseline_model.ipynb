{
 "cells": [
  {
   "cell_type": "code",
   "execution_count": 1,
   "metadata": {},
   "outputs": [],
   "source": [
    "import pandas as pd\n",
    "import numpy as np\n",
    "import math"
   ]
  },
  {
   "cell_type": "code",
   "execution_count": 2,
   "metadata": {},
   "outputs": [],
   "source": [
    "X_train = pd.read_csv('../data/curated/model/X_train.csv')\n",
    "y_train = pd.read_csv('../data/curated/model/y_train.csv')\n",
    "X_val = pd.read_csv('../data/curated/model/X_val.csv')\n",
    "y_val = pd.read_csv('../data/curated/model/y_val.csv')\n",
    "X_test = pd.read_csv('../data/curated/model/X_test.csv')\n",
    "y_test = pd.read_csv('../data/curated/model/y_test.csv')"
   ]
  },
  {
   "cell_type": "code",
   "execution_count": 3,
   "metadata": {},
   "outputs": [],
   "source": [
    "# Predictors\n",
    "X_train = X_train.iloc[:, 2:]\n",
    "X_val = X_val.iloc[:, 2:]\n",
    "X_test = X_test.iloc[:, 2:]\n",
    "\n",
    "# Responses\n",
    "y_train = y_train.iloc[:, 1:]\n",
    "y_val = y_val.iloc[:, 1:]\n",
    "y_test = y_test.iloc[:, 1:]\n"
   ]
  },
  {
   "cell_type": "code",
   "execution_count": 4,
   "metadata": {},
   "outputs": [],
   "source": [
    "from sklearn.dummy import DummyRegressor\n",
    "\n",
    "# dummy regressor that predicts the mean of the training set\n",
    "dummy_regr = DummyRegressor(strategy='mean')\n",
    "\n",
    "dummy_regr.fit(X_train, y_train)\n",
    "\n",
    "# predict the income rate based on a null model only including mean of response variable\n",
    "y_train_dummy_mean = dummy_regr.predict(X_train)\n",
    "y_val_dummy_mean = dummy_regr.predict(X_val)\n",
    "y_predict_dummy_mean = dummy_regr.predict(X_test)\n"
   ]
  },
  {
   "cell_type": "code",
   "execution_count": 5,
   "metadata": {},
   "outputs": [
    {
     "name": "stdout",
     "output_type": "stream",
     "text": [
      "\n",
      "--- Training Dataset Metrics ---\n",
      "R² Score      : 0.000\n",
      "RMSE          : 11.291\n",
      "-----------------------------------\n",
      "\n",
      "--- Validation Dataset Metrics ---\n",
      "R² Score      : -0.002\n",
      "RMSE          : 9.562\n",
      "-----------------------------------\n",
      "\n",
      "--- Testing Dataset Metrics ---\n",
      "R² Score      : -0.007\n",
      "RMSE          : 6.466\n",
      "-----------------------------------\n"
     ]
    }
   ],
   "source": [
    "from sklearn.metrics import r2_score, mean_squared_error\n",
    "import numpy as np\n",
    "\n",
    "def print_metrics(y_true, y_pred, dataset_name):\n",
    "    r2 = r2_score(y_true, y_pred)\n",
    "    rmse = np.sqrt(mean_squared_error(y_true, y_pred))\n",
    "    print(f\"\\n--- {dataset_name.capitalize()} Dataset Metrics ---\")\n",
    "    print(f\"R² Score      : {r2:.3f}\")\n",
    "    print(f\"RMSE          : {rmse:.3f}\")\n",
    "    print(\"-\" * 35)\n",
    "    \n",
    "print_metrics(y_train, y_train_dummy_mean, 'training')\n",
    "print_metrics(y_val, y_val_dummy_mean, 'validation')\n",
    "print_metrics(y_test, y_predict_dummy_mean, 'testing')\n"
   ]
  }
 ],
 "metadata": {
  "kernelspec": {
   "display_name": "Python 3",
   "language": "python",
   "name": "python3"
  },
  "language_info": {
   "codemirror_mode": {
    "name": "ipython",
    "version": 3
   },
   "file_extension": ".py",
   "mimetype": "text/x-python",
   "name": "python",
   "nbconvert_exporter": "python",
   "pygments_lexer": "ipython3",
   "version": "3.10.12"
  }
 },
 "nbformat": 4,
 "nbformat_minor": 2
}
