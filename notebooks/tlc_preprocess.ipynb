{
 "cells": [
  {
   "cell_type": "markdown",
   "metadata": {},
   "source": [
    "Preliminary Data Exploration"
   ]
  },
  {
   "cell_type": "code",
   "execution_count": 2,
   "metadata": {},
   "outputs": [],
   "source": [
    "import os\n",
    "import sys\n",
    "from pyspark.sql import SparkSession\n",
    "from pyspark.sql import functions as func\n",
    "import numpy as np\n",
    "import pandas as pd\n",
    "import seaborn as sns\n",
    "import matplotlib.pyplot as plt\n",
    "\n",
    "project_dir = '../'\n",
    "scripts_dir = os.path.join(project_dir, 'scripts')\n",
    "sys.path.append(scripts_dir)\n",
    "\n",
    "from boxplot import plot_boxplot"
   ]
  },
  {
   "cell_type": "code",
   "execution_count": 3,
   "metadata": {},
   "outputs": [
    {
     "data": {
      "text/html": [
       "<div>\n",
       "<style scoped>\n",
       "    .dataframe tbody tr th:only-of-type {\n",
       "        vertical-align: middle;\n",
       "    }\n",
       "\n",
       "    .dataframe tbody tr th {\n",
       "        vertical-align: top;\n",
       "    }\n",
       "\n",
       "    .dataframe thead th {\n",
       "        text-align: right;\n",
       "    }\n",
       "</style>\n",
       "<table border=\"1\" class=\"dataframe\">\n",
       "  <thead>\n",
       "    <tr style=\"text-align: right;\">\n",
       "      <th></th>\n",
       "      <th>tpep_pickup_datetime</th>\n",
       "      <th>tpep_dropoff_datetime</th>\n",
       "      <th>passenger_count</th>\n",
       "      <th>trip_distance</th>\n",
       "      <th>PULocationID</th>\n",
       "      <th>DOLocationID</th>\n",
       "      <th>payment_type</th>\n",
       "      <th>fare_amount</th>\n",
       "      <th>tip_amount</th>\n",
       "      <th>total_amount</th>\n",
       "    </tr>\n",
       "  </thead>\n",
       "  <tbody>\n",
       "    <tr>\n",
       "      <th>0</th>\n",
       "      <td>2023-07-01 00:29:59</td>\n",
       "      <td>2023-07-01 00:40:15</td>\n",
       "      <td>1.0</td>\n",
       "      <td>1.80</td>\n",
       "      <td>140</td>\n",
       "      <td>263</td>\n",
       "      <td>1</td>\n",
       "      <td>12.10</td>\n",
       "      <td>5.10</td>\n",
       "      <td>22.20</td>\n",
       "    </tr>\n",
       "    <tr>\n",
       "      <th>1</th>\n",
       "      <td>2023-07-01 00:03:25</td>\n",
       "      <td>2023-07-01 00:23:44</td>\n",
       "      <td>1.0</td>\n",
       "      <td>2.31</td>\n",
       "      <td>163</td>\n",
       "      <td>163</td>\n",
       "      <td>2</td>\n",
       "      <td>19.10</td>\n",
       "      <td>0.00</td>\n",
       "      <td>24.10</td>\n",
       "    </tr>\n",
       "    <tr>\n",
       "      <th>2</th>\n",
       "      <td>2023-07-01 00:38:29</td>\n",
       "      <td>2023-07-01 00:48:53</td>\n",
       "      <td>1.0</td>\n",
       "      <td>2.36</td>\n",
       "      <td>142</td>\n",
       "      <td>262</td>\n",
       "      <td>1</td>\n",
       "      <td>13.50</td>\n",
       "      <td>3.70</td>\n",
       "      <td>22.20</td>\n",
       "    </tr>\n",
       "    <tr>\n",
       "      <th>3</th>\n",
       "      <td>2023-07-01 00:14:16</td>\n",
       "      <td>2023-07-01 00:29:13</td>\n",
       "      <td>1.0</td>\n",
       "      <td>4.36</td>\n",
       "      <td>68</td>\n",
       "      <td>24</td>\n",
       "      <td>1</td>\n",
       "      <td>19.80</td>\n",
       "      <td>4.96</td>\n",
       "      <td>29.76</td>\n",
       "    </tr>\n",
       "    <tr>\n",
       "      <th>4</th>\n",
       "      <td>2023-07-01 00:11:15</td>\n",
       "      <td>2023-07-01 00:20:47</td>\n",
       "      <td>0.0</td>\n",
       "      <td>1.60</td>\n",
       "      <td>161</td>\n",
       "      <td>107</td>\n",
       "      <td>1</td>\n",
       "      <td>11.40</td>\n",
       "      <td>3.25</td>\n",
       "      <td>19.65</td>\n",
       "    </tr>\n",
       "    <tr>\n",
       "      <th>...</th>\n",
       "      <td>...</td>\n",
       "      <td>...</td>\n",
       "      <td>...</td>\n",
       "      <td>...</td>\n",
       "      <td>...</td>\n",
       "      <td>...</td>\n",
       "      <td>...</td>\n",
       "      <td>...</td>\n",
       "      <td>...</td>\n",
       "      <td>...</td>\n",
       "    </tr>\n",
       "    <tr>\n",
       "      <th>18816601</th>\n",
       "      <td>2023-12-31 23:04:34</td>\n",
       "      <td>2023-12-31 23:13:58</td>\n",
       "      <td>NaN</td>\n",
       "      <td>1.34</td>\n",
       "      <td>233</td>\n",
       "      <td>163</td>\n",
       "      <td>0</td>\n",
       "      <td>12.08</td>\n",
       "      <td>0.00</td>\n",
       "      <td>16.08</td>\n",
       "    </tr>\n",
       "    <tr>\n",
       "      <th>18816602</th>\n",
       "      <td>2023-12-31 23:08:15</td>\n",
       "      <td>2023-12-31 23:08:23</td>\n",
       "      <td>NaN</td>\n",
       "      <td>0.00</td>\n",
       "      <td>48</td>\n",
       "      <td>48</td>\n",
       "      <td>0</td>\n",
       "      <td>25.98</td>\n",
       "      <td>0.00</td>\n",
       "      <td>27.48</td>\n",
       "    </tr>\n",
       "    <tr>\n",
       "      <th>18816603</th>\n",
       "      <td>2023-12-31 23:16:15</td>\n",
       "      <td>2023-12-31 23:30:28</td>\n",
       "      <td>NaN</td>\n",
       "      <td>3.71</td>\n",
       "      <td>196</td>\n",
       "      <td>198</td>\n",
       "      <td>0</td>\n",
       "      <td>16.68</td>\n",
       "      <td>0.00</td>\n",
       "      <td>18.18</td>\n",
       "    </tr>\n",
       "    <tr>\n",
       "      <th>18816604</th>\n",
       "      <td>2023-12-31 23:21:58</td>\n",
       "      <td>2023-12-31 23:34:29</td>\n",
       "      <td>NaN</td>\n",
       "      <td>5.20</td>\n",
       "      <td>140</td>\n",
       "      <td>148</td>\n",
       "      <td>0</td>\n",
       "      <td>19.64</td>\n",
       "      <td>0.00</td>\n",
       "      <td>23.64</td>\n",
       "    </tr>\n",
       "    <tr>\n",
       "      <th>18816605</th>\n",
       "      <td>2023-12-31 23:10:47</td>\n",
       "      <td>2023-12-31 23:27:58</td>\n",
       "      <td>NaN</td>\n",
       "      <td>6.81</td>\n",
       "      <td>237</td>\n",
       "      <td>261</td>\n",
       "      <td>0</td>\n",
       "      <td>27.18</td>\n",
       "      <td>0.00</td>\n",
       "      <td>31.18</td>\n",
       "    </tr>\n",
       "  </tbody>\n",
       "</table>\n",
       "<p>18816606 rows × 10 columns</p>\n",
       "</div>"
      ],
      "text/plain": [
       "         tpep_pickup_datetime tpep_dropoff_datetime  passenger_count  \\\n",
       "0         2023-07-01 00:29:59   2023-07-01 00:40:15              1.0   \n",
       "1         2023-07-01 00:03:25   2023-07-01 00:23:44              1.0   \n",
       "2         2023-07-01 00:38:29   2023-07-01 00:48:53              1.0   \n",
       "3         2023-07-01 00:14:16   2023-07-01 00:29:13              1.0   \n",
       "4         2023-07-01 00:11:15   2023-07-01 00:20:47              0.0   \n",
       "...                       ...                   ...              ...   \n",
       "18816601  2023-12-31 23:04:34   2023-12-31 23:13:58              NaN   \n",
       "18816602  2023-12-31 23:08:15   2023-12-31 23:08:23              NaN   \n",
       "18816603  2023-12-31 23:16:15   2023-12-31 23:30:28              NaN   \n",
       "18816604  2023-12-31 23:21:58   2023-12-31 23:34:29              NaN   \n",
       "18816605  2023-12-31 23:10:47   2023-12-31 23:27:58              NaN   \n",
       "\n",
       "          trip_distance  PULocationID  DOLocationID  payment_type  \\\n",
       "0                  1.80           140           263             1   \n",
       "1                  2.31           163           163             2   \n",
       "2                  2.36           142           262             1   \n",
       "3                  4.36            68            24             1   \n",
       "4                  1.60           161           107             1   \n",
       "...                 ...           ...           ...           ...   \n",
       "18816601           1.34           233           163             0   \n",
       "18816602           0.00            48            48             0   \n",
       "18816603           3.71           196           198             0   \n",
       "18816604           5.20           140           148             0   \n",
       "18816605           6.81           237           261             0   \n",
       "\n",
       "          fare_amount  tip_amount  total_amount  \n",
       "0               12.10        5.10         22.20  \n",
       "1               19.10        0.00         24.10  \n",
       "2               13.50        3.70         22.20  \n",
       "3               19.80        4.96         29.76  \n",
       "4               11.40        3.25         19.65  \n",
       "...               ...         ...           ...  \n",
       "18816601        12.08        0.00         16.08  \n",
       "18816602        25.98        0.00         27.48  \n",
       "18816603        16.68        0.00         18.18  \n",
       "18816604        19.64        0.00         23.64  \n",
       "18816605        27.18        0.00         31.18  \n",
       "\n",
       "[18816606 rows x 10 columns]"
      ]
     },
     "execution_count": 3,
     "metadata": {},
     "output_type": "execute_result"
    }
   ],
   "source": [
    "df = pd.read_parquet('../data/curated/tlc_yellow.parquet')\n",
    "df"
   ]
  },
  {
   "cell_type": "markdown",
   "metadata": {},
   "source": [
    "**Time range**: To ensure that the dataset is within a specified time-range from the beginning of July 2023 to the end of December 2023."
   ]
  },
  {
   "cell_type": "code",
   "execution_count": 4,
   "metadata": {},
   "outputs": [],
   "source": [
    "# Define date range\n",
    "start_date, end_date = pd.Timestamp(\"2023-07-01 00:00:00\"), pd.Timestamp(\"2023-12-31 23:59:59\")\n",
    "\n",
    "# Filter by date range and apply initial cleaning\n",
    "df_filtered = (\n",
    "    df[(df[\"tpep_pickup_datetime\"].between(start_date, end_date)) & \n",
    "       (df[\"trip_distance\"] > 0) & \n",
    "       (df['payment_type'].isin([1, 2]))]\n",
    ")"
   ]
  },
  {
   "cell_type": "markdown",
   "metadata": {},
   "source": [
    "**Filter Unrealistic Values**: Remove entries with fares below $2.50 or negative tips, as these are likely errors or outliers that do not represent valid trips.\n",
    "\n",
    "\n"
   ]
  },
  {
   "cell_type": "code",
   "execution_count": 5,
   "metadata": {},
   "outputs": [],
   "source": [
    "# Remove unrealistic fare and tip amounts, calculate trip duration\n",
    "df_filtered = df_filtered[(df_filtered.fare_amount >= 2.5) & (df_filtered.tip_amount >= 0)]"
   ]
  },
  {
   "cell_type": "markdown",
   "metadata": {},
   "source": [
    "\n",
    "**Calculate Trip Duration**: Compute the trip duration in minutes by finding the difference between pickup and dropoff times. This helps in analyzing the length of trips for further insights."
   ]
  },
  {
   "cell_type": "code",
   "execution_count": 6,
   "metadata": {},
   "outputs": [],
   "source": [
    "df_filtered['trip_time'] = (df_filtered.tpep_dropoff_datetime - df_filtered.tpep_pickup_datetime).dt.total_seconds() / 60"
   ]
  },
  {
   "cell_type": "markdown",
   "metadata": {},
   "source": [
    "**Remove Negative Durations**: Exclude records with negative trip durations to ensure all remaining data reflects realistic and valid trip information."
   ]
  },
  {
   "cell_type": "code",
   "execution_count": 7,
   "metadata": {},
   "outputs": [],
   "source": [
    "df_filtered = df_filtered[df_filtered['trip_time'] >= 0]"
   ]
  },
  {
   "cell_type": "markdown",
   "metadata": {},
   "source": [
    "**Legal speed limit**: filter out trips with average speeds exceeding 70 mph, ensuring only trips within the legal speed limit are retained for analysis."
   ]
  },
  {
   "cell_type": "code",
   "execution_count": 8,
   "metadata": {},
   "outputs": [],
   "source": [
    "df_filtered1 = df_filtered[(df_filtered.trip_distance / (df_filtered.trip_time / 60)) < 70]"
   ]
  },
  {
   "cell_type": "code",
   "execution_count": 8,
   "metadata": {},
   "outputs": [
    {
     "data": {
      "image/png": "[encoded data removed]",
      "text/plain": [
       "<Figure size 1000x600 with 1 Axes>"
      ]
     },
     "metadata": {},
     "output_type": "display_data"
    }
   ],
   "source": [
    "features = ['trip_distance', 'fare_amount', 'tip_amount']\n",
    "\n",
    "plot_boxplot(df_filtered1, features, title='Box Plot of Taxi Features Before Outlier Removal', xlabel='Features of Taxi Data')\n",
    "# plt.savefig('../plots/Boxplot_Taxi_Features_Before_Outlier_Removal.png')"
   ]
  },
  {
   "cell_type": "markdown",
   "metadata": {},
   "source": [
    "As can be seen from the box plot, the fare_amount has two values that are obviously outliers. Hence, they'll be removed immediately before further proceding."
   ]
  },
  {
   "cell_type": "code",
   "execution_count": 9,
   "metadata": {},
   "outputs": [
    {
     "name": "stdout",
     "output_type": "stream",
     "text": [
      "5856333     187502.96\n",
      "6062118     143163.45\n",
      "17399209      2194.70\n",
      "10893853      1916.80\n",
      "14403074      1726.60\n",
      "              ...    \n",
      "4392871          2.60\n",
      "6461325          2.50\n",
      "1454941          2.50\n",
      "3434764          2.50\n",
      "2981612          2.50\n",
      "Name: fare_amount, Length: 17404649, dtype: float64\n"
     ]
    }
   ],
   "source": [
    "sorted_column = df_filtered['fare_amount'].sort_values(ascending=False)\n",
    "\n",
    "print(sorted_column)"
   ]
  },
  {
   "cell_type": "code",
   "execution_count": 10,
   "metadata": {},
   "outputs": [],
   "source": [
    "threshold = 10000\n",
    "\n",
    "df_filtered1 = df_filtered1[df_filtered1['fare_amount'] <= threshold]"
   ]
  },
  {
   "cell_type": "code",
   "execution_count": 11,
   "metadata": {},
   "outputs": [
    {
     "data": {
      "image/png": "[encoded data removed]",
      "text/plain": [
       "<Figure size 1000x600 with 1 Axes>"
      ]
     },
     "metadata": {},
     "output_type": "display_data"
    }
   ],
   "source": [
    "features = ['trip_distance', 'fare_amount', 'tip_amount']\n",
    "\n",
    "plot_boxplot(df_filtered1, features, title='Box Plot of Taxi Features Initial Outlier Removal', xlabel='Features of Taxi Data')\n",
    "# plt.savefig('../plots/Boxplot_Taxi_Features_Initial_Outlier_Removal.png')"
   ]
  },
  {
   "cell_type": "code",
   "execution_count": 12,
   "metadata": {},
   "outputs": [],
   "source": [
    "# maximum reasonable values for each feature\n",
    "max_values = {\n",
    "    'trip_distance': 200,\n",
    "    'fare_amount': 500,\n",
    "    'tip_amount': 200\n",
    "}\n",
    "\n",
    "# constraints to filter \n",
    "def filter_by_max_values(df, constraints):\n",
    "    filtered_df = df.copy()\n",
    "    for column, max_value in constraints.items():\n",
    "        filtered_df = filtered_df[filtered_df[column] < max_value]\n",
    "    return filtered_df\n",
    "\n",
    "df_filtered2 = filter_by_max_values(df_filtered1, max_values)"
   ]
  },
  {
   "cell_type": "code",
   "execution_count": 13,
   "metadata": {},
   "outputs": [],
   "source": [
    "# remove data based on boxplot outliers\n",
    "valid_trip_distance = df_filtered2.trip_distance < 200\n",
    "valid_fare_amount = df_filtered2.fare_amount < 500\n",
    "valid_tip_amount = df_filtered2.tip_amount < 200\n",
    "df_filtered3 = df_filtered2[valid_trip_distance & valid_fare_amount & valid_tip_amount]\n"
   ]
  },
  {
   "cell_type": "code",
   "execution_count": 14,
   "metadata": {},
   "outputs": [
    {
     "name": "stderr",
     "output_type": "stream",
     "text": [
      "/tmp/ipykernel_2173/1976084194.py:8: UserWarning: Boolean Series key will be reindexed to match DataFrame index.\n",
      "  df_filtered4 = df_filtered3[~((df_filtered[cols] < lower_bound) | (df_filtered[cols] > upper_bound)).any(axis=1)]\n"
     ]
    }
   ],
   "source": [
    "cols = ['trip_time', 'trip_distance', 'fare_amount', 'tip_amount']\n",
    "\n",
    "# calculate and apply IQR-based outlier removal\n",
    "Q1, Q3 = df_filtered3[cols].quantile(0.25), df_filtered3[cols].quantile(0.75)\n",
    "IQR = Q3 - Q1\n",
    "lower_bound = Q1 - 1.5 * IQR\n",
    "upper_bound = Q3 + 0.5 * IQR\n",
    "df_filtered4 = df_filtered3[~((df_filtered[cols] < lower_bound) | (df_filtered[cols] > upper_bound)).any(axis=1)]\n",
    "\n"
   ]
  },
  {
   "cell_type": "code",
   "execution_count": 15,
   "metadata": {},
   "outputs": [
    {
     "name": "stderr",
     "output_type": "stream",
     "text": [
      "/tmp/ipykernel_2173/1772152997.py:5: SettingWithCopyWarning: \n",
      "A value is trying to be set on a copy of a slice from a DataFrame.\n",
      "Try using .loc[row_indexer,col_indexer] = value instead\n",
      "\n",
      "See the caveats in the documentation: https://pandas.pydata.org/pandas-docs/stable/user_guide/indexing.html#returning-a-view-versus-a-copy\n",
      "  df_filtered4['total_with_tip'] = df_filtered4['total_amount'] + df_filtered4['tip_amount']\n"
     ]
    }
   ],
   "source": [
    "# estimate and fill missing tip amounts\n",
    "card_tips = df_filtered4[df_filtered4['payment_type'] == 1][['tip_amount', 'total_amount']]\n",
    "tip_rate = card_tips['tip_amount'].sum() / card_tips['total_amount'].sum()\n",
    "df_filtered4.loc[df_filtered4['payment_type'] == 2, 'tip_amount'] = (df_filtered4['total_amount'] - 2.5) * tip_rate\n",
    "df_filtered4['total_with_tip'] = df_filtered4['total_amount'] + df_filtered4['tip_amount']\n",
    "\n"
   ]
  },
  {
   "cell_type": "code",
   "execution_count": 16,
   "metadata": {},
   "outputs": [
    {
     "name": "stderr",
     "output_type": "stream",
     "text": [
      "/tmp/ipykernel_2173/1936734772.py:1: SettingWithCopyWarning: \n",
      "A value is trying to be set on a copy of a slice from a DataFrame.\n",
      "Try using .loc[row_indexer,col_indexer] = value instead\n",
      "\n",
      "See the caveats in the documentation: https://pandas.pydata.org/pandas-docs/stable/user_guide/indexing.html#returning-a-view-versus-a-copy\n",
      "  df_filtered4['earnings_rate'] = (df_filtered4['total_with_tip'] - 2.5) / df_filtered4['trip_time']\n"
     ]
    }
   ],
   "source": [
    "df_filtered4['earnings_rate'] = (df_filtered4['total_with_tip'] - 2.5) / df_filtered4['trip_time']\n",
    "\n"
   ]
  },
  {
   "cell_type": "code",
   "execution_count": 17,
   "metadata": {},
   "outputs": [
    {
     "name": "stderr",
     "output_type": "stream",
     "text": [
      "/tmp/ipykernel_2173/1126216222.py:6: SettingWithCopyWarning: \n",
      "A value is trying to be set on a copy of a slice from a DataFrame.\n",
      "Try using .loc[row_indexer,col_indexer] = value instead\n",
      "\n",
      "See the caveats in the documentation: https://pandas.pydata.org/pandas-docs/stable/user_guide/indexing.html#returning-a-view-versus-a-copy\n",
      "  df_final['date'] = df_final['tpep_pickup_datetime'].dt.date\n"
     ]
    }
   ],
   "source": [
    "features = [\n",
    "    'PULocationID', 'DOLocationID', 'tpep_pickup_datetime', 'tpep_dropoff_datetime',\n",
    "    'total_with_tip', 'trip_distance', 'fare_amount', 'tip_amount', 'earnings_rate'\n",
    "]\n",
    "df_final = df_filtered4[features]\n",
    "df_final['date'] = df_final['tpep_pickup_datetime'].dt.date\n",
    "\n",
    "# group by 'PULocationID' and 'date' and aggregate data\n",
    "processed_df = df_final.groupby(['PULocationID', 'date']).agg({\n",
    "    'earnings_rate': 'mean',\n",
    "    'total_with_tip': 'mean',\n",
    "    'trip_distance': 'mean',\n",
    "    'fare_amount': 'mean',\n",
    "    'tip_amount': 'median'\n",
    "}).reset_index()"
   ]
  },
  {
   "cell_type": "code",
   "execution_count": 18,
   "metadata": {},
   "outputs": [],
   "source": [
    "processed_df.to_csv('../data/curated/processed_taxi_data.csv', index=False)"
   ]
  },
  {
   "cell_type": "code",
   "execution_count": 19,
   "metadata": {},
   "outputs": [
    {
     "data": {
      "image/png": "[encoded data removed]",
      "text/plain": [
       "<Figure size 1000x600 with 1 Axes>"
      ]
     },
     "metadata": {},
     "output_type": "display_data"
    }
   ],
   "source": [
    "features = ['trip_distance', 'fare_amount', 'tip_amount']\n",
    "\n",
    "plot_boxplot(processed_df, features, title='Box Plot of Taxi Features Post Outlier Removal', xlabel='Features of Taxi Data')\n",
    "# plt.savefig('../plots/Boxplot_Taxi_Features_Post_Outlier_Removal.png')"
   ]
  },
  {
   "cell_type": "code",
   "execution_count": 20,
   "metadata": {},
   "outputs": [
    {
     "data": {
      "text/html": [
       "<div>\n",
       "<style scoped>\n",
       "    .dataframe tbody tr th:only-of-type {\n",
       "        vertical-align: middle;\n",
       "    }\n",
       "\n",
       "    .dataframe tbody tr th {\n",
       "        vertical-align: top;\n",
       "    }\n",
       "\n",
       "    .dataframe thead th {\n",
       "        text-align: right;\n",
       "    }\n",
       "</style>\n",
       "<table border=\"1\" class=\"dataframe\">\n",
       "  <thead>\n",
       "    <tr style=\"text-align: right;\">\n",
       "      <th></th>\n",
       "      <th>PULocationID</th>\n",
       "      <th>earnings_rate</th>\n",
       "      <th>total_with_tip</th>\n",
       "      <th>trip_distance</th>\n",
       "      <th>fare_amount</th>\n",
       "      <th>tip_amount</th>\n",
       "    </tr>\n",
       "  </thead>\n",
       "  <tbody>\n",
       "    <tr>\n",
       "      <th>count</th>\n",
       "      <td>30616.000000</td>\n",
       "      <td>30616.000000</td>\n",
       "      <td>30616.000000</td>\n",
       "      <td>30616.000000</td>\n",
       "      <td>30616.000000</td>\n",
       "      <td>30616.000000</td>\n",
       "    </tr>\n",
       "    <tr>\n",
       "      <th>mean</th>\n",
       "      <td>138.209564</td>\n",
       "      <td>2.700129</td>\n",
       "      <td>20.780148</td>\n",
       "      <td>1.910628</td>\n",
       "      <td>14.561113</td>\n",
       "      <td>1.709015</td>\n",
       "    </tr>\n",
       "    <tr>\n",
       "      <th>std</th>\n",
       "      <td>76.446158</td>\n",
       "      <td>10.154096</td>\n",
       "      <td>4.039606</td>\n",
       "      <td>0.736744</td>\n",
       "      <td>3.906207</td>\n",
       "      <td>1.295834</td>\n",
       "    </tr>\n",
       "    <tr>\n",
       "      <th>min</th>\n",
       "      <td>1.000000</td>\n",
       "      <td>0.107775</td>\n",
       "      <td>4.223047</td>\n",
       "      <td>0.010000</td>\n",
       "      <td>3.000000</td>\n",
       "      <td>0.000000</td>\n",
       "    </tr>\n",
       "    <tr>\n",
       "      <th>25%</th>\n",
       "      <td>72.000000</td>\n",
       "      <td>1.307743</td>\n",
       "      <td>18.690989</td>\n",
       "      <td>1.536323</td>\n",
       "      <td>12.075349</td>\n",
       "      <td>0.000000</td>\n",
       "    </tr>\n",
       "    <tr>\n",
       "      <th>50%</th>\n",
       "      <td>141.000000</td>\n",
       "      <td>1.759036</td>\n",
       "      <td>21.031513</td>\n",
       "      <td>1.783750</td>\n",
       "      <td>13.741483</td>\n",
       "      <td>2.050000</td>\n",
       "    </tr>\n",
       "    <tr>\n",
       "      <th>75%</th>\n",
       "      <td>209.000000</td>\n",
       "      <td>2.039065</td>\n",
       "      <td>23.013719</td>\n",
       "      <td>2.265000</td>\n",
       "      <td>17.183333</td>\n",
       "      <td>2.795523</td>\n",
       "    </tr>\n",
       "    <tr>\n",
       "      <th>max</th>\n",
       "      <td>265.000000</td>\n",
       "      <td>493.940154</td>\n",
       "      <td>70.490000</td>\n",
       "      <td>4.590000</td>\n",
       "      <td>28.600000</td>\n",
       "      <td>7.676536</td>\n",
       "    </tr>\n",
       "  </tbody>\n",
       "</table>\n",
       "</div>"
      ],
      "text/plain": [
       "       PULocationID  earnings_rate  total_with_tip  trip_distance  \\\n",
       "count  30616.000000   30616.000000    30616.000000   30616.000000   \n",
       "mean     138.209564       2.700129       20.780148       1.910628   \n",
       "std       76.446158      10.154096        4.039606       0.736744   \n",
       "min        1.000000       0.107775        4.223047       0.010000   \n",
       "25%       72.000000       1.307743       18.690989       1.536323   \n",
       "50%      141.000000       1.759036       21.031513       1.783750   \n",
       "75%      209.000000       2.039065       23.013719       2.265000   \n",
       "max      265.000000     493.940154       70.490000       4.590000   \n",
       "\n",
       "        fare_amount    tip_amount  \n",
       "count  30616.000000  30616.000000  \n",
       "mean      14.561113      1.709015  \n",
       "std        3.906207      1.295834  \n",
       "min        3.000000      0.000000  \n",
       "25%       12.075349      0.000000  \n",
       "50%       13.741483      2.050000  \n",
       "75%       17.183333      2.795523  \n",
       "max       28.600000      7.676536  "
      ]
     },
     "execution_count": 20,
     "metadata": {},
     "output_type": "execute_result"
    }
   ],
   "source": [
    "cleaned = pd.read_csv('../data/curated/processed_taxi_data.csv')\n",
    "cleaned.describe()"
   ]
  }
 ],
 "metadata": {
  "kernelspec": {
   "display_name": "Python 3",
   "language": "python",
   "name": "python3"
  },
  "language_info": {
   "codemirror_mode": {
    "name": "ipython",
    "version": 3
   },
   "file_extension": ".py",
   "mimetype": "text/x-python",
   "name": "python",
   "nbconvert_exporter": "python",
   "pygments_lexer": "ipython3",
   "version": "3.10.12"
  }
 },
 "nbformat": 4,
 "nbformat_minor": 2
}
